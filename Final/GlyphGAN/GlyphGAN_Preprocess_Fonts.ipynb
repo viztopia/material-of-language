{
  "nbformat": 4,
  "nbformat_minor": 0,
  "metadata": {
    "kernelspec": {
      "display_name": "Python 3",
      "language": "python",
      "name": "python3"
    },
    "language_info": {
      "codemirror_mode": {
        "name": "ipython",
        "version": 3
      },
      "file_extension": ".py",
      "mimetype": "text/x-python",
      "name": "python",
      "nbconvert_exporter": "python",
      "pygments_lexer": "ipython3",
      "version": "3.7.3"
    },
    "colab": {
      "name": "GlyphGAN_Preprocess_Fonts.ipynb",
      "provenance": [],
      "collapsed_sections": [],
      "toc_visible": true
    }
  },
  "cells": [
    {
      "cell_type": "markdown",
      "metadata": {
        "id": "i6lhJT-_fKjY",
        "colab_type": "text"
      },
      "source": [
        "This is the first colab notebook of the GlyphGAN model that Henry and I made for our final of Allison's [Material of Language](https://mol.decontextualize.com/) class. It prepares the font data set for the second notebook (GlyphGAN_Train) so that we can train the GlyphGAN model.\n",
        "\n",
        "The code is heavily based on this repo: https://github.com/thunchakorn/ThaiFontGANs"
      ]
    },
    {
      "cell_type": "markdown",
      "metadata": {
        "id": "TfvxDADafl5p",
        "colab_type": "text"
      },
      "source": [
        "# Getting Started\n",
        "The model that we're using, GlyphGAN, is a style-consistent font generator. You can feed the model with glyph images from a number of existing fonts, and then generate the same set of glyphs with brand new fonts. We selected a number of Chinese calligraphy fonts, and took the characters from an ancient peom to use it as the dataset.\n",
        "\n",
        "The poem, titled \"望庐山瀑布\", was written by Li Bai, a famous Chinese poet of the Tang Dynasty. It desribes the magnificent scene of a waterfall in southern China.\n"
      ]
    },
    {
      "cell_type": "code",
      "metadata": {
        "id": "xcJpqvFDTY6n",
        "colab_type": "code",
        "outputId": "9f38a816-eac1-4ad6-ffa1-8f2e8a556ac6",
        "colab": {
          "base_uri": "https://localhost:8080/",
          "height": 121
        }
      },
      "source": [
        "from google.colab import drive\n",
        "drive.mount('/content/gdrive')"
      ],
      "execution_count": 1,
      "outputs": [
        {
          "output_type": "stream",
          "text": [
            "Go to this URL in a browser: https://accounts.google.com/o/oauth2/auth?client_id=947318989803-6bn6qk8qdgf4n4g3pfee6491hc0brc4i.apps.googleusercontent.com&redirect_uri=urn%3aietf%3awg%3aoauth%3a2.0%3aoob&response_type=code&scope=email%20https%3a%2f%2fwww.googleapis.com%2fauth%2fdocs.test%20https%3a%2f%2fwww.googleapis.com%2fauth%2fdrive%20https%3a%2f%2fwww.googleapis.com%2fauth%2fdrive.photos.readonly%20https%3a%2f%2fwww.googleapis.com%2fauth%2fpeopleapi.readonly\n",
            "\n",
            "Enter your authorization code:\n",
            "··········\n",
            "Mounted at /content/gdrive\n"
          ],
          "name": "stdout"
        }
      ]
    },
    {
      "cell_type": "code",
      "metadata": {
        "id": "Ltm-yxfAA0F5",
        "colab_type": "code",
        "colab": {}
      },
      "source": [
        "from PIL import ImageFont, Image, ImageDraw, ImageChops, ImageOps\n",
        "import numpy as np\n",
        "import matplotlib.pyplot as plt\n",
        "import os\n",
        "import time\n",
        "import json"
      ],
      "execution_count": 0,
      "outputs": []
    },
    {
      "cell_type": "code",
      "metadata": {
        "id": "WnLXFHjqLUwV",
        "colab_type": "code",
        "colab": {}
      },
      "source": [
        "fonts_directory = '/content/gdrive/My Drive/2020 Spring/Material of Language/MOL Final/Fonts/Calligraphy/'"
      ],
      "execution_count": 0,
      "outputs": []
    },
    {
      "cell_type": "code",
      "metadata": {
        "id": "QvUpYDzWSCi2",
        "colab_type": "code",
        "outputId": "d53b123d-cda1-4ff4-c1e1-2bf33c422f25",
        "colab": {
          "base_uri": "https://localhost:8080/",
          "height": 34
        }
      },
      "source": [
        "fonts = os.listdir(fonts_directory)\n",
        "image_size = 128\n",
        "chars = '日照香炉生紫烟遥看瀑布挂前川飞流直下三千尺疑是银河落九天，。' # characters from the poem, \"望庐山瀑布\"\n",
        "\n",
        "print(len(fonts), len(chars))"
      ],
      "execution_count": 4,
      "outputs": [
        {
          "output_type": "stream",
          "text": [
            "15 30\n"
          ],
          "name": "stdout"
        }
      ]
    },
    {
      "cell_type": "markdown",
      "metadata": {
        "id": "_piG1dn-m9Mt",
        "colab_type": "text"
      },
      "source": [
        "Then two helper functions were defined, one to turn font data into an array, the other plot the chosen characters with the specified font and save it as an image."
      ]
    },
    {
      "cell_type": "code",
      "metadata": {
        "id": "Smve54GnSCiw",
        "colab_type": "code",
        "colab": {}
      },
      "source": [
        "def font2array(font_ttf, chars, size = 64, ratio = 0.5):\n",
        "    blank = Image.new('L', (size*4, size*4), 255)\n",
        "    font = ImageFont.truetype(font_ttf, int(size))\n",
        "    # We need to make sure we scale down the fonts but preserve the vertical alignment\n",
        "    min_ly = float('inf')\n",
        "    max_hy = float('-inf')\n",
        "    max_width = 0\n",
        "    imgs = []\n",
        "\n",
        "    for char in chars:\n",
        "        # Draw character\n",
        "        img = Image.new(\"L\", (size*3, size*3), 255)\n",
        "        draw = ImageDraw.Draw(img)\n",
        "        w, h = font.getsize(char)\n",
        "        draw.text(((size*3-w)//2,(size*3-h)//2), char, font=font)\n",
        "        # Get bounding box\n",
        "        diff = ImageChops.difference(img, blank)\n",
        "        if diff.getbbox() == None:\n",
        "            print(f'char:{char} of font:{font_ttf}')\n",
        "            return\n",
        "        lx, ly, hx, hy = diff.getbbox()\n",
        "        min_ly = min(min_ly, ly)\n",
        "        max_hy = max(max_hy, hy)\n",
        "        max_width = max(max_width, hx - lx)\n",
        "        imgs.append((lx, hx, img))\n",
        "\n",
        "    #print('crop dims:', max_hy - min_ly, max_width)\n",
        "    scale_factor = min(ratio * size / (max_hy - min_ly), ratio * size / max_width)\n",
        "    data = []\n",
        "\n",
        "    for lx, hx, img in imgs:\n",
        "        img = img.crop((lx, min_ly, hx, max_hy))\n",
        "\n",
        "        # Resize to smaller\n",
        "        new_width = (hx-lx) * scale_factor\n",
        "        new_height = (max_hy - min_ly) * scale_factor\n",
        "        img = img.resize((int(new_width), int(new_height)), Image.ANTIALIAS)\n",
        "\n",
        "        # Expand to square\n",
        "        img_sq = Image.new('L', (size, size), 255)\n",
        "        offset_x = (size - new_width)/2\n",
        "        offset_y = (size - new_height)/2\n",
        "        img_sq.paste(img, (int(offset_x), int(offset_y)))\n",
        "\n",
        "        # Convert to numpy array\n",
        "        matrix = np.array(img_sq.getdata()).reshape((size, size))\n",
        "        matrix = 255 - matrix\n",
        "        data.append(matrix)\n",
        "\n",
        "    return np.array(data)"
      ],
      "execution_count": 0,
      "outputs": []
    },
    {
      "cell_type": "code",
      "metadata": {
        "id": "2UsWhcTJSCi0",
        "colab_type": "code",
        "colab": {}
      },
      "source": [
        "def plot_font(data, font_name):\n",
        "    fig = plt.figure(figsize=(9, 6))\n",
        "    for i in range(data.shape[0]):\n",
        "      plt.subplot(9, 6, i+1)\n",
        "      plt.axis('off')\n",
        "      plt.imshow(255-data[i], cmap = 'gray')\n",
        "      plt.savefig(f'plot_font/{font_name[:-4]}.png', bbox_inches='tight')\n",
        "    plt.clf()"
      ],
      "execution_count": 0,
      "outputs": []
    },
    {
      "cell_type": "code",
      "metadata": {
        "id": "QmB86JfGUwg_",
        "colab_type": "code",
        "colab": {}
      },
      "source": [
        "!mkdir check_font"
      ],
      "execution_count": 0,
      "outputs": []
    },
    {
      "cell_type": "code",
      "metadata": {
        "id": "R7n88qH0SCi7",
        "colab_type": "code",
        "colab": {}
      },
      "source": [
        "#checking for courrupt fonts. \n",
        "for font in fonts:\n",
        "    test = font2array(font_ttf = fonts_directory + font, chars = '鸡', size = image_size, ratio = 0.8)\n",
        "    if test is None:\n",
        "        continue\n",
        "    img = Image.fromarray(test[0].astype(np.uint8))\n",
        "    img.save(f'check_font/{font[:-4]}.PNG', 'PNG')"
      ],
      "execution_count": 0,
      "outputs": []
    },
    {
      "cell_type": "code",
      "metadata": {
        "id": "YWDqxNOqV0Sn",
        "colab_type": "code",
        "colab": {}
      },
      "source": [
        "!mkdir plot_font"
      ],
      "execution_count": 0,
      "outputs": []
    },
    {
      "cell_type": "code",
      "metadata": {
        "id": "7h8opxEeSCjE",
        "colab_type": "code",
        "outputId": "bd6e479a-4db6-4eec-a3b2-81ee93ea1f7f",
        "colab": {
          "base_uri": "https://localhost:8080/",
          "height": 302
        }
      },
      "source": [
        "for i, font in zip(range(data.shape[0]), fonts):\n",
        "    plot_font(data[i], font)\n",
        "    if i % 10 == 0:\n",
        "        print(f'finish {i}')"
      ],
      "execution_count": 13,
      "outputs": [
        {
          "output_type": "stream",
          "text": [
            "finish 0\n",
            "finish 10\n"
          ],
          "name": "stdout"
        },
        {
          "output_type": "display_data",
          "data": {
            "text/plain": [
              "<Figure size 648x432 with 0 Axes>"
            ]
          },
          "metadata": {
            "tags": []
          }
        },
        {
          "output_type": "display_data",
          "data": {
            "text/plain": [
              "<Figure size 648x432 with 0 Axes>"
            ]
          },
          "metadata": {
            "tags": []
          }
        },
        {
          "output_type": "display_data",
          "data": {
            "text/plain": [
              "<Figure size 648x432 with 0 Axes>"
            ]
          },
          "metadata": {
            "tags": []
          }
        },
        {
          "output_type": "display_data",
          "data": {
            "text/plain": [
              "<Figure size 648x432 with 0 Axes>"
            ]
          },
          "metadata": {
            "tags": []
          }
        },
        {
          "output_type": "display_data",
          "data": {
            "text/plain": [
              "<Figure size 648x432 with 0 Axes>"
            ]
          },
          "metadata": {
            "tags": []
          }
        },
        {
          "output_type": "display_data",
          "data": {
            "text/plain": [
              "<Figure size 648x432 with 0 Axes>"
            ]
          },
          "metadata": {
            "tags": []
          }
        },
        {
          "output_type": "display_data",
          "data": {
            "text/plain": [
              "<Figure size 648x432 with 0 Axes>"
            ]
          },
          "metadata": {
            "tags": []
          }
        },
        {
          "output_type": "display_data",
          "data": {
            "text/plain": [
              "<Figure size 648x432 with 0 Axes>"
            ]
          },
          "metadata": {
            "tags": []
          }
        },
        {
          "output_type": "display_data",
          "data": {
            "text/plain": [
              "<Figure size 648x432 with 0 Axes>"
            ]
          },
          "metadata": {
            "tags": []
          }
        },
        {
          "output_type": "display_data",
          "data": {
            "text/plain": [
              "<Figure size 648x432 with 0 Axes>"
            ]
          },
          "metadata": {
            "tags": []
          }
        },
        {
          "output_type": "display_data",
          "data": {
            "text/plain": [
              "<Figure size 648x432 with 0 Axes>"
            ]
          },
          "metadata": {
            "tags": []
          }
        },
        {
          "output_type": "display_data",
          "data": {
            "text/plain": [
              "<Figure size 648x432 with 0 Axes>"
            ]
          },
          "metadata": {
            "tags": []
          }
        },
        {
          "output_type": "display_data",
          "data": {
            "text/plain": [
              "<Figure size 648x432 with 0 Axes>"
            ]
          },
          "metadata": {
            "tags": []
          }
        },
        {
          "output_type": "display_data",
          "data": {
            "text/plain": [
              "<Figure size 648x432 with 0 Axes>"
            ]
          },
          "metadata": {
            "tags": []
          }
        },
        {
          "output_type": "display_data",
          "data": {
            "text/plain": [
              "<Figure size 648x432 with 0 Axes>"
            ]
          },
          "metadata": {
            "tags": []
          }
        }
      ]
    },
    {
      "cell_type": "markdown",
      "metadata": {
        "id": "ACVfW1_xnVoS",
        "colab_type": "text"
      },
      "source": [
        "Then we can create the dataset for training by loading the characters of the peom from each font, and save them as a npy file. This npy file will be used to train the model."
      ]
    },
    {
      "cell_type": "code",
      "metadata": {
        "scrolled": true,
        "id": "DK2RXz5ASCi9",
        "colab_type": "code",
        "outputId": "bac07c67-1d44-40b7-9786-bce38b983974",
        "colab": {
          "base_uri": "https://localhost:8080/",
          "height": 134
        }
      },
      "source": [
        "fonts = os.listdir(fonts_directory)\n",
        "num_fonts = len(fonts)\n",
        "num_chars = len(list(chars))\n",
        "\n",
        "# numpy array data\n",
        "data = np.array([])\n",
        "\n",
        "report_interval = 10\n",
        "i = 0\n",
        "\n",
        "print(f'#font:{len(fonts)}\\n#char:{num_chars}')\n",
        "start = time.time()\n",
        "\n",
        "for font in fonts:\n",
        "    char_font = font2array(font_ttf = fonts_directory + font, chars = chars, size = image_size, ratio = 0.9)\n",
        "    data = np.append(data, char_font)\n",
        "    if i % report_interval == 0:\n",
        "        print(f'finish font:{i+1}th')\n",
        "    i += 1\n",
        "\n",
        "print(f'time use: {time.time()-start}')\n",
        "\n",
        "print(data.shape)\n",
        "data = data.astype(np.uint8)\n",
        "data = data.reshape(-1, num_chars, image_size, image_size)\n",
        "print(data.shape)"
      ],
      "execution_count": 14,
      "outputs": [
        {
          "output_type": "stream",
          "text": [
            "#font:15\n",
            "#char:30\n",
            "finish font:1th\n",
            "finish font:11th\n",
            "time use: 2.382444381713867\n",
            "(7372800,)\n",
            "(15, 30, 128, 128)\n"
          ],
          "name": "stdout"
        }
      ]
    },
    {
      "cell_type": "code",
      "metadata": {
        "id": "JTwUSgPdSCjA",
        "colab_type": "code",
        "colab": {}
      },
      "source": [
        "np.save('fontarray_calligraphy.npy', data)"
      ],
      "execution_count": 0,
      "outputs": []
    }
  ]
}