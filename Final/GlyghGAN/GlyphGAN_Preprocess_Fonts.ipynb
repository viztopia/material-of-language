{
  "nbformat": 4,
  "nbformat_minor": 0,
  "metadata": {
    "kernelspec": {
      "display_name": "Python 3",
      "language": "python",
      "name": "python3"
    },
    "language_info": {
      "codemirror_mode": {
        "name": "ipython",
        "version": 3
      },
      "file_extension": ".py",
      "mimetype": "text/x-python",
      "name": "python",
      "nbconvert_exporter": "python",
      "pygments_lexer": "ipython3",
      "version": "3.7.3"
    },
    "colab": {
      "name": "GlyphGAN_Preprocess_Fonts.ipynb",
      "provenance": [],
      "collapsed_sections": [],
      "toc_visible": true
    }
  },
  "cells": [
    {
      "cell_type": "code",
      "metadata": {
        "id": "xcJpqvFDTY6n",
        "colab_type": "code",
        "outputId": "9985883e-a36e-4eb3-8609-352dca7dfacf",
        "colab": {
          "base_uri": "https://localhost:8080/",
          "height": 121
        }
      },
      "source": [
        "from google.colab import drive\n",
        "drive.mount('/content/gdrive')"
      ],
      "execution_count": 1,
      "outputs": [
        {
          "output_type": "stream",
          "text": [
            "Go to this URL in a browser: https://accounts.google.com/o/oauth2/auth?client_id=947318989803-6bn6qk8qdgf4n4g3pfee6491hc0brc4i.apps.googleusercontent.com&redirect_uri=urn%3aietf%3awg%3aoauth%3a2.0%3aoob&response_type=code&scope=email%20https%3a%2f%2fwww.googleapis.com%2fauth%2fdocs.test%20https%3a%2f%2fwww.googleapis.com%2fauth%2fdrive%20https%3a%2f%2fwww.googleapis.com%2fauth%2fdrive.photos.readonly%20https%3a%2f%2fwww.googleapis.com%2fauth%2fpeopleapi.readonly\n",
            "\n",
            "Enter your authorization code:\n",
            "··········\n",
            "Mounted at /content/gdrive\n"
          ],
          "name": "stdout"
        }
      ]
    },
    {
      "cell_type": "code",
      "metadata": {
        "id": "Ltm-yxfAA0F5",
        "colab_type": "code",
        "colab": {}
      },
      "source": [
        "from PIL import ImageFont, Image, ImageDraw, ImageChops, ImageOps\n",
        "import numpy as np\n",
        "import matplotlib.pyplot as plt\n",
        "import os\n",
        "import time\n",
        "import json"
      ],
      "execution_count": 0,
      "outputs": []
    },
    {
      "cell_type": "code",
      "metadata": {
        "id": "WnLXFHjqLUwV",
        "colab_type": "code",
        "colab": {}
      },
      "source": [
        "fonts_directory = '/content/gdrive/My Drive/2020 Spring/Material of Language/MOL Final/Fonts/Calligraphy/'"
      ],
      "execution_count": 0,
      "outputs": []
    },
    {
      "cell_type": "code",
      "metadata": {
        "id": "QvUpYDzWSCi2",
        "colab_type": "code",
        "outputId": "98923d05-8165-4af0-8108-048debb9fa67",
        "colab": {
          "base_uri": "https://localhost:8080/",
          "height": 34
        }
      },
      "source": [
        "fonts = os.listdir(fonts_directory)\n",
        "image_size = 128\n",
        "chars = '日照香炉生紫烟遥看瀑布挂前川飞流直下三千尺疑是银河落九天，。'\n",
        "\n",
        "print(len(fonts), len(chars))"
      ],
      "execution_count": 7,
      "outputs": [
        {
          "output_type": "stream",
          "text": [
            "15 30\n"
          ],
          "name": "stdout"
        }
      ]
    },
    {
      "cell_type": "code",
      "metadata": {
        "id": "Smve54GnSCiw",
        "colab_type": "code",
        "colab": {}
      },
      "source": [
        "def font2array(font_ttf, chars, size = 64, ratio = 0.5):\n",
        "    blank = Image.new('L', (size*4, size*4), 255)\n",
        "    font = ImageFont.truetype(font_ttf, int(size))\n",
        "    # We need to make sure we scale down the fonts but preserve the vertical alignment\n",
        "    min_ly = float('inf')\n",
        "    max_hy = float('-inf')\n",
        "    max_width = 0\n",
        "    imgs = []\n",
        "\n",
        "    for char in chars:\n",
        "        # Draw character\n",
        "        img = Image.new(\"L\", (size*3, size*3), 255)\n",
        "        draw = ImageDraw.Draw(img)\n",
        "        w, h = font.getsize(char)\n",
        "#         draw.text((size//2, -20), char, font=font)\n",
        "        draw.text(((size*3-w)//2,(size*3-h)//2), char, font=font)\n",
        "#         img.show()\n",
        "        # Get bounding box\n",
        "        diff = ImageChops.difference(img, blank)\n",
        "        if diff.getbbox() == None:\n",
        "            print(f'char:{char} of font:{font_ttf}')\n",
        "            return\n",
        "        lx, ly, hx, hy = diff.getbbox()\n",
        "        min_ly = min(min_ly, ly)\n",
        "        max_hy = max(max_hy, hy)\n",
        "        max_width = max(max_width, hx - lx)\n",
        "        imgs.append((lx, hx, img))\n",
        "\n",
        "    #print('crop dims:', max_hy - min_ly, max_width)\n",
        "    scale_factor = min(ratio * size / (max_hy - min_ly), ratio * size / max_width)\n",
        "    data = []\n",
        "\n",
        "    for lx, hx, img in imgs:\n",
        "        img = img.crop((lx, min_ly, hx, max_hy))\n",
        "\n",
        "        # Resize to smaller\n",
        "        new_width = (hx-lx) * scale_factor\n",
        "        new_height = (max_hy - min_ly) * scale_factor\n",
        "        img = img.resize((int(new_width), int(new_height)), Image.ANTIALIAS)\n",
        "\n",
        "        # Expand to square\n",
        "        img_sq = Image.new('L', (size, size), 255)\n",
        "        offset_x = (size - new_width)/2\n",
        "        offset_y = (size - new_height)/2\n",
        "        img_sq.paste(img, (int(offset_x), int(offset_y)))\n",
        "\n",
        "        # Convert to numpy array\n",
        "        matrix = np.array(img_sq.getdata()).reshape((size, size))\n",
        "        matrix = 255 - matrix\n",
        "        data.append(matrix)\n",
        "\n",
        "    return np.array(data)"
      ],
      "execution_count": 0,
      "outputs": []
    },
    {
      "cell_type": "code",
      "metadata": {
        "id": "2UsWhcTJSCi0",
        "colab_type": "code",
        "colab": {}
      },
      "source": [
        "def plot_font(data, font_name):\n",
        "    fig = plt.figure(figsize=(9, 6))\n",
        "    for i in range(data.shape[0]):\n",
        "      plt.subplot(9, 6, i+1)\n",
        "      plt.axis('off')\n",
        "      plt.imshow(255-data[i], cmap = 'gray')\n",
        "      plt.savefig(f'plot_font/{font_name[:-4]}.png', bbox_inches='tight')\n",
        "    plt.clf()\n",
        "    \n",
        "def plot_all_font_chicken(data, fonts_name):\n",
        "    data = data.transpose(1,0,2,3)[0]\n",
        "    for i, font in zip(data, fonts_name):\n",
        "        img = Image.fromarray(255-i)\n",
        "        img.save(f\"plot_font_chicken/{font}_chicken.png\",\"PNG\")"
      ],
      "execution_count": 0,
      "outputs": []
    },
    {
      "cell_type": "code",
      "metadata": {
        "id": "QmB86JfGUwg_",
        "colab_type": "code",
        "colab": {}
      },
      "source": [
        "!mkdir check_font"
      ],
      "execution_count": 0,
      "outputs": []
    },
    {
      "cell_type": "code",
      "metadata": {
        "id": "R7n88qH0SCi7",
        "colab_type": "code",
        "colab": {}
      },
      "source": [
        "#checking for courrupt fonts. \n",
        "for font in fonts:\n",
        "    test = font2array(font_ttf = fonts_directory + font, chars = '鸡', size = image_size, ratio = 0.8)\n",
        "    if test is None:\n",
        "        continue\n",
        "    img = Image.fromarray(test[0].astype(np.uint8))\n",
        "    img.save(f'check_font/{font[:-4]}.PNG', 'PNG')"
      ],
      "execution_count": 0,
      "outputs": []
    },
    {
      "cell_type": "code",
      "metadata": {
        "scrolled": true,
        "id": "DK2RXz5ASCi9",
        "colab_type": "code",
        "outputId": "924f9be3-d13c-4f06-cc26-684fac91025c",
        "colab": {
          "base_uri": "https://localhost:8080/",
          "height": 134
        }
      },
      "source": [
        "fonts = os.listdir(fonts_directory)\n",
        "num_fonts = len(fonts)\n",
        "num_chars = len(list(chars))\n",
        "\n",
        "# numpy array data\n",
        "data = np.array([])\n",
        "\n",
        "report_interval = 10\n",
        "i = 0\n",
        "\n",
        "print(f'#font:{len(fonts)}\\n#char:{num_chars}')\n",
        "start = time.time()\n",
        "\n",
        "for font in fonts:\n",
        "    char_font = font2array(font_ttf = fonts_directory + font, chars = chars, size = image_size, ratio = 0.9)\n",
        "    data = np.append(data, char_font)\n",
        "    if i % report_interval == 0:\n",
        "        print(f'finish font:{i+1}th')\n",
        "    i += 1\n",
        "\n",
        "print(f'time use: {time.time()-start}')\n",
        "\n",
        "print(data.shape)\n",
        "data = data.astype(np.uint8)\n",
        "data = data.reshape(-1, num_chars, image_size, image_size)\n",
        "print(data.shape)"
      ],
      "execution_count": 12,
      "outputs": [
        {
          "output_type": "stream",
          "text": [
            "#font:15\n",
            "#char:30\n",
            "finish font:1th\n",
            "finish font:11th\n",
            "time use: 2.54172420501709\n",
            "(7372800,)\n",
            "(15, 30, 128, 128)\n"
          ],
          "name": "stdout"
        }
      ]
    },
    {
      "cell_type": "code",
      "metadata": {
        "id": "JTwUSgPdSCjA",
        "colab_type": "code",
        "colab": {}
      },
      "source": [
        "np.save('fontarray_calligraphy.npy', data)\n",
        "\n",
        "# data = np.load('fontarray.npy')"
      ],
      "execution_count": 0,
      "outputs": []
    },
    {
      "cell_type": "code",
      "metadata": {
        "id": "YWDqxNOqV0Sn",
        "colab_type": "code",
        "colab": {}
      },
      "source": [
        "!mkdir plot_font"
      ],
      "execution_count": 0,
      "outputs": []
    },
    {
      "cell_type": "code",
      "metadata": {
        "id": "7h8opxEeSCjE",
        "colab_type": "code",
        "outputId": "19f2b243-9e91-494c-dc44-d82e6ab51bd9",
        "colab": {
          "base_uri": "https://localhost:8080/",
          "height": 286
        }
      },
      "source": [
        "for i, font in zip(range(data.shape[0]), fonts):\n",
        "    plot_font(data[i], font)\n",
        "    if i % 10 == 0:\n",
        "        print(f'finish {i}')"
      ],
      "execution_count": 15,
      "outputs": [
        {
          "output_type": "stream",
          "text": [
            "finish 0\n"
          ],
          "name": "stdout"
        },
        {
          "output_type": "display_data",
          "data": {
            "text/plain": [
              "<Figure size 648x432 with 0 Axes>"
            ]
          },
          "metadata": {
            "tags": []
          }
        },
        {
          "output_type": "display_data",
          "data": {
            "text/plain": [
              "<Figure size 648x432 with 0 Axes>"
            ]
          },
          "metadata": {
            "tags": []
          }
        },
        {
          "output_type": "display_data",
          "data": {
            "text/plain": [
              "<Figure size 648x432 with 0 Axes>"
            ]
          },
          "metadata": {
            "tags": []
          }
        },
        {
          "output_type": "display_data",
          "data": {
            "text/plain": [
              "<Figure size 648x432 with 0 Axes>"
            ]
          },
          "metadata": {
            "tags": []
          }
        },
        {
          "output_type": "display_data",
          "data": {
            "text/plain": [
              "<Figure size 648x432 with 0 Axes>"
            ]
          },
          "metadata": {
            "tags": []
          }
        },
        {
          "output_type": "display_data",
          "data": {
            "text/plain": [
              "<Figure size 648x432 with 0 Axes>"
            ]
          },
          "metadata": {
            "tags": []
          }
        },
        {
          "output_type": "display_data",
          "data": {
            "text/plain": [
              "<Figure size 648x432 with 0 Axes>"
            ]
          },
          "metadata": {
            "tags": []
          }
        },
        {
          "output_type": "display_data",
          "data": {
            "text/plain": [
              "<Figure size 648x432 with 0 Axes>"
            ]
          },
          "metadata": {
            "tags": []
          }
        },
        {
          "output_type": "display_data",
          "data": {
            "text/plain": [
              "<Figure size 648x432 with 0 Axes>"
            ]
          },
          "metadata": {
            "tags": []
          }
        },
        {
          "output_type": "display_data",
          "data": {
            "text/plain": [
              "<Figure size 648x432 with 0 Axes>"
            ]
          },
          "metadata": {
            "tags": []
          }
        },
        {
          "output_type": "display_data",
          "data": {
            "text/plain": [
              "<Figure size 648x432 with 0 Axes>"
            ]
          },
          "metadata": {
            "tags": []
          }
        },
        {
          "output_type": "display_data",
          "data": {
            "text/plain": [
              "<Figure size 648x432 with 0 Axes>"
            ]
          },
          "metadata": {
            "tags": []
          }
        },
        {
          "output_type": "display_data",
          "data": {
            "text/plain": [
              "<Figure size 648x432 with 0 Axes>"
            ]
          },
          "metadata": {
            "tags": []
          }
        },
        {
          "output_type": "display_data",
          "data": {
            "text/plain": [
              "<Figure size 648x432 with 0 Axes>"
            ]
          },
          "metadata": {
            "tags": []
          }
        },
        {
          "output_type": "display_data",
          "data": {
            "text/plain": [
              "<Figure size 648x432 with 0 Axes>"
            ]
          },
          "metadata": {
            "tags": []
          }
        }
      ]
    }
  ]
}